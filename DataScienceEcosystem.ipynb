{
 "cells": [
  {
   "cell_type": "markdown",
   "id": "8d5a2ed8-6060-4c71-8d7a-16fb2c15ab7b",
   "metadata": {},
   "source": [
    "# Data Science Tools and Ecosystem"
   ]
  },
  {
   "cell_type": "markdown",
   "id": "d884a994-618c-4679-a96b-5217fa263146",
   "metadata": {},
   "source": [
    "In this notebook, Data Science Tools and Ecosystem are summarized."
   ]
  },
  {
   "cell_type": "markdown",
   "id": "b77a0a9e-4b08-4942-a0d0-ebe7c2e2d21d",
   "metadata": {},
   "source": [
    "Some of the popular languages that Data Scientists use are:"
   ]
  },
  {
   "cell_type": "markdown",
   "id": "c42d01ea-e214-410d-a971-8884346a47a6",
   "metadata": {},
   "source": [
    "1. Python\n",
    "2. R\n",
    "3. Julia\n",
    "4. SQL"
   ]
  },
  {
   "cell_type": "markdown",
   "id": "64223066-d980-4fbf-8dce-1a3cc9a38f1d",
   "metadata": {},
   "source": [
    "# Objectives:"
   ]
  },
  {
   "cell_type": "markdown",
   "id": "94dbd034-9064-452f-ba5e-8850b2a859a4",
   "metadata": {},
   "source": [
    "* List popular languages for Data Science\n",
    "* ist popular tools for Data Science\n",
    "* list popular libraries in Data Sience"
   ]
  },
  {
   "cell_type": "markdown",
   "id": "3827fe41-e401-42b5-b923-9a939c443cf7",
   "metadata": {},
   "source": [
    "Some of the commonly used libraries used by Data Scientists include:"
   ]
  },
  {
   "cell_type": "markdown",
   "id": "3eadb497-0a89-436a-b455-c8c579643517",
   "metadata": {},
   "source": [
    "1. Pandas\n",
    "2. NumPy\n",
    "3. Matplotlib\n",
    "4. Plotly\n",
    "5. TensorFlow"
   ]
  },
  {
   "cell_type": "markdown",
   "id": "0c6d123b-70a0-41ac-ab47-d72ea8965deb",
   "metadata": {
    "jp-MarkdownHeadingCollapsed": true
   },
   "source": [
    "| Data Science Tools |  \n",
    "|:------------------:|\n",
    "| Apache Hadoop      |\n",
    "| Python             |\n",
    "| SAS                |\n",
    "| Apache Spark       |"
   ]
  },
  {
   "cell_type": "markdown",
   "id": "5d7cc743-4aa1-4496-9a28-b5980fdaf4ca",
   "metadata": {},
   "source": [
    "### Below are a few examples of evaluating arithmetic expressions in Python"
   ]
  },
  {
   "cell_type": "markdown",
   "id": "5e94e7f8-3199-4f48-881c-6c0a9b6515f7",
   "metadata": {},
   "source": [
    "this a simple arithmetic expression to mutiply then add integers"
   ]
  },
  {
   "cell_type": "code",
   "execution_count": 13,
   "id": "cb9ae324-7642-40a9-a06f-9ecf06c85251",
   "metadata": {},
   "outputs": [
    {
     "data": {
      "text/plain": [
       "17"
      ]
     },
     "execution_count": 13,
     "metadata": {},
     "output_type": "execute_result"
    }
   ],
   "source": [
    "(3*4)+5"
   ]
  },
  {
   "cell_type": "markdown",
   "id": "a51f50d2-3c8e-4db4-b979-dbd4f6c1bbd5",
   "metadata": {},
   "source": [
    "This will convert 200 minutes to hours by diving by 60"
   ]
  },
  {
   "cell_type": "code",
   "execution_count": 14,
   "id": "3644bd41-1690-4736-8f5a-4f58e95e0ebe",
   "metadata": {},
   "outputs": [
    {
     "data": {
      "text/plain": [
       "3.3333333333333335"
      ]
     },
     "execution_count": 14,
     "metadata": {},
     "output_type": "execute_result"
    }
   ],
   "source": [
    "200 / 60"
   ]
  },
  {
   "cell_type": "markdown",
   "id": "4a623c13-ebdf-4b7d-8ce3-c101e142f1bc",
   "metadata": {},
   "source": [
    "## Author\n",
    "Masood Albanna"
   ]
  }
 ],
 "metadata": {
  "kernelspec": {
   "display_name": "Python 3 (ipykernel)",
   "language": "python",
   "name": "python3"
  },
  "language_info": {
   "codemirror_mode": {
    "name": "ipython",
    "version": 3
   },
   "file_extension": ".py",
   "mimetype": "text/x-python",
   "name": "python",
   "nbconvert_exporter": "python",
   "pygments_lexer": "ipython3",
   "version": "3.11.7"
  }
 },
 "nbformat": 4,
 "nbformat_minor": 5
}
